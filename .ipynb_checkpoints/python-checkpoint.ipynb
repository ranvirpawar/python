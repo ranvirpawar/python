{
 "cells": [
  {
   "cell_type": "markdown",
   "id": "22c85e4a",
   "metadata": {},
   "source": [
    "## Python"
   ]
  },
  {
   "cell_type": "markdown",
   "id": "cd7b7950",
   "metadata": {},
   "source": [
    "#### creating variables and accesing them"
   ]
  },
  {
   "cell_type": "code",
   "execution_count": 1,
   "id": "4d6e92c7",
   "metadata": {},
   "outputs": [],
   "source": [
    "class IMCC:\n",
    "    # class variable\n",
    "    department = 'MCA' \n",
    "    def __init__ (self, name, div):\n",
    "        # instance variable\n",
    "        self.name = name\n",
    "        self.div = div"
   ]
  },
  {
   "cell_type": "code",
   "execution_count": 2,
   "id": "7ed62991",
   "metadata": {},
   "outputs": [],
   "source": [
    "## creating a object of class \n",
    "std1 = IMCC('Ranvir', 'B')"
   ]
  },
  {
   "cell_type": "code",
   "execution_count": 3,
   "id": "88377b76",
   "metadata": {
    "scrolled": true
   },
   "outputs": [
    {
     "name": "stdout",
     "output_type": "stream",
     "text": [
      "MCA\n",
      "Ranvir\n",
      "B\n"
     ]
    }
   ],
   "source": [
    "print(std1.department)\n",
    "print(std1.name)\n",
    "print(std1.div)\n"
   ]
  },
  {
   "cell_type": "code",
   "execution_count": 4,
   "id": "a154ffd6",
   "metadata": {},
   "outputs": [
    {
     "name": "stdout",
     "output_type": "stream",
     "text": [
      "MCA\n"
     ]
    }
   ],
   "source": [
    "## accesing them using class name \n",
    "print(IMCC.department)\n",
    " "
   ]
  },
  {
   "cell_type": "markdown",
   "id": "03af0358",
   "metadata": {},
   "source": [
    "# Inheritance"
   ]
  },
  {
   "cell_type": "markdown",
   "id": "115e07cb",
   "metadata": {},
   "source": [
    "#### The new class called Subclass inherits the properties and method of existing class known as Superclass or parent class\n"
   ]
  },
  {
   "cell_type": "markdown",
   "id": "ba22ff15",
   "metadata": {},
   "source": [
    "## single Inheriatance\n",
    "####  class inheriting from only one base class."
   ]
  },
  {
   "cell_type": "code",
   "execution_count": 5,
   "id": "bdec47d9",
   "metadata": {},
   "outputs": [],
   "source": [
    "class Animal:\n",
    "    def eat(self):\n",
    "        print('Eating')\n",
    "\n",
    "class Dog(Animal):\n",
    "    def bark(self):\n",
    "        print('Barking')\n",
    "        \n"
   ]
  },
  {
   "cell_type": "code",
   "execution_count": 6,
   "id": "76744bf4",
   "metadata": {},
   "outputs": [
    {
     "name": "stdout",
     "output_type": "stream",
     "text": [
      "Barking\n",
      "Eating\n"
     ]
    }
   ],
   "source": [
    "d = Dog()\n",
    "## accesing method of own class \n",
    "d.bark()\n",
    "## accessing method of superclass\n",
    "d.eat()"
   ]
  },
  {
   "cell_type": "markdown",
   "id": "1e9cae1a",
   "metadata": {},
   "source": [
    "## Multiple Inheritance\n",
    "####  class inheriting from more than one base class"
   ]
  },
  {
   "cell_type": "code",
   "execution_count": 7,
   "id": "c44daaea",
   "metadata": {},
   "outputs": [],
   "source": [
    "class mathoperations:\n",
    "    def add(self,x,y):\n",
    "        return x + y\n",
    "class stringoperations:\n",
    "    def concatenate(self, str1, str2):\n",
    "        return str1 + str2\n"
   ]
  },
  {
   "cell_type": "code",
   "execution_count": 8,
   "id": "13f216ef",
   "metadata": {},
   "outputs": [],
   "source": [
    "class operations(mathoperations, stringoperations):\n",
    "    def calculator(self):\n",
    "        ## accsing parent class methods\n",
    "        return self.add(5,4) , self.cocatenate( \"hello\", \"world\")\n",
    "        \n",
    "        "
   ]
  },
  {
   "cell_type": "code",
   "execution_count": 9,
   "id": "bc438a77",
   "metadata": {},
   "outputs": [
    {
     "name": "stdout",
     "output_type": "stream",
     "text": [
      "5\n",
      "hello world\n"
     ]
    }
   ],
   "source": [
    "d = operations()\n",
    "print(d.add(2,3))\n",
    "print(d.add(\"hello \", \"world\"))"
   ]
  },
  {
   "cell_type": "markdown",
   "id": "b1c39e1e",
   "metadata": {},
   "source": [
    "## Multilevel Inheritance\n",
    "#### derived class inherits from base class, and that base class itself inheritate from another base class"
   ]
  },
  {
   "cell_type": "code",
   "execution_count": 10,
   "id": "a1056b4f",
   "metadata": {},
   "outputs": [],
   "source": [
    "class Animal:\n",
    "    def eat(self):\n",
    "        print('Eating')\n",
    "\n",
    "class Dog(Animal):\n",
    "    def bark(self):\n",
    "        print('Barking')\n",
    "\n",
    "class Breed(Dog):\n",
    "    def name(self):\n",
    "        print(\"bulldog\")\n",
    "        \n",
    "    "
   ]
  },
  {
   "cell_type": "code",
   "execution_count": 11,
   "id": "963a0972",
   "metadata": {},
   "outputs": [
    {
     "name": "stdout",
     "output_type": "stream",
     "text": [
      "bulldog\n",
      "Eating\n",
      "Barking\n"
     ]
    }
   ],
   "source": [
    "# creating the object of class breed \n",
    "b = Breed()\n",
    "b.name()\n",
    "# accessing properties of parentclass using subclass instance\n",
    "b.eat()\n",
    "b.bark()"
   ]
  },
  {
   "cell_type": "markdown",
   "id": "c5411a49",
   "metadata": {},
   "source": [
    "## Hybrid  Inheritance\n",
    "#### inheritance consisting multiple types of inheritance"
   ]
  },
  {
   "cell_type": "code",
   "execution_count": 12,
   "id": "6dbe80a6",
   "metadata": {},
   "outputs": [],
   "source": [
    "class Animal:\n",
    "    def make_sound(self):\n",
    "        print(\"animal makes sound\")\n",
    "        \n",
    "class flayer(Animal):\n",
    "    def fly(self):\n",
    "         print(\"fly\")\n",
    "class bird (Animal):\n",
    "    def chirps(self):\n",
    "        print(\"brids chirps\")\n",
    "class sparrow(flayer, bird):\n",
    "    def sp(self):\n",
    "        print(\"this is sparrow\")"
   ]
  },
  {
   "cell_type": "code",
   "execution_count": 13,
   "id": "25d54b0b",
   "metadata": {},
   "outputs": [
    {
     "name": "stdout",
     "output_type": "stream",
     "text": [
      "this is sparrow\n",
      "brids chirps\n",
      "fly\n",
      "animal makes sound\n"
     ]
    }
   ],
   "source": [
    "s = sparrow()\n",
    "s.sp()\n",
    "s.chirps()\n",
    "s.fly()\n",
    "s.make_sound()"
   ]
  },
  {
   "cell_type": "markdown",
   "id": "f859db86",
   "metadata": {},
   "source": [
    "## Hierchical Inheritance \n",
    "#### more than one derived class are created using single parent class "
   ]
  },
  {
   "cell_type": "code",
   "execution_count": 14,
   "id": "837e9529",
   "metadata": {},
   "outputs": [
    {
     "name": "stdout",
     "output_type": "stream",
     "text": [
      "Ranvir\n",
      "DIV B\n",
      "Gaurav\n",
      "DIV B\n"
     ]
    }
   ],
   "source": [
    "class IMCC :\n",
    "    def div(self):\n",
    "        print(\"DIV B\")\n",
    "        \n",
    "class std1(IMCC):\n",
    "    def name(self):\n",
    "        print(\"Ranvir\")\n",
    "class std2(IMCC):\n",
    "    def name(self):\n",
    "        print(\"Gaurav\")\n",
    "a = std1()\n",
    "a.name()\n",
    "a.div()\n",
    "b = std2()\n",
    "b.name()\n",
    "b.div()\n",
    "\n",
    "        \n",
    "    "
   ]
  },
  {
   "cell_type": "markdown",
   "id": "d9b83491",
   "metadata": {},
   "source": [
    "# Exception Handling\n"
   ]
  },
  {
   "cell_type": "markdown",
   "id": "2078301c",
   "metadata": {},
   "source": [
    "#### try:\n",
    "####    operation block\n",
    "#### except:\n",
    "####    this block will execute if some error occures in try block\n",
    "#### finally:\n",
    "####     block is executed regardless error"
   ]
  },
  {
   "cell_type": "code",
   "execution_count": 15,
   "id": "11a6262b",
   "metadata": {},
   "outputs": [
    {
     "name": "stdout",
     "output_type": "stream",
     "text": [
      "error is type error {a}\n",
      "this block is executed regardless exception\n",
      "division by zero is not allowed\n",
      "this block is executed regardless exception\n",
      "13/7  answer is 1.8571428571428572\n",
      "this block is executed regardless exception\n"
     ]
    }
   ],
   "source": [
    "def divide_numbers(a,b):\n",
    "    try:\n",
    "        result = a/b\n",
    "    except ZeroDivisionError:\n",
    "        print(\"division by zero is not allowed\")\n",
    "    except TypeError as e:\n",
    "        print(\"error is type error {a}\")\n",
    "    except Exception as e:\n",
    "        print(f'the given error is : {e}')\n",
    "    else:\n",
    "        print(f\"{a}/{b}  answer is {result}\")\n",
    "    finally:\n",
    "        print('this block is executed regardless exception')\n",
    "divide_numbers(12,\"2\")\n",
    "divide_numbers(12,0)\n",
    "divide_numbers(13,7)"
   ]
  },
  {
   "cell_type": "code",
   "execution_count": null,
   "id": "ac87ed48",
   "metadata": {},
   "outputs": [],
   "source": []
  },
  {
   "cell_type": "markdown",
   "id": "2df48f8a",
   "metadata": {},
   "source": [
    "# Multithreading"
   ]
  },
  {
   "cell_type": "code",
   "execution_count": 16,
   "id": "8756e6b3",
   "metadata": {},
   "outputs": [
    {
     "name": "stdout",
     "output_type": "stream",
     "text": [
      "1\n",
      "2\n",
      "3\n",
      "4\n",
      "5\n",
      "6\n",
      "7\n",
      "a\n",
      "b\n",
      "c\n",
      "e\n",
      "d\n",
      "k\n",
      "s\n",
      "k\n",
      "program execution completed\n"
     ]
    }
   ],
   "source": [
    "import threading\n",
    "def print_numbers():\n",
    "    for i in range(1,8):\n",
    "        print(i)\n",
    "def print_letters():\n",
    "    for letter in (\"abcedksk\"):\n",
    "        print(letter)\n",
    "# creating thread objects\n",
    "t1 = threading.Thread(target= print_numbers)\n",
    "t2 = threading.Thread(target= print_letters)\n",
    "# starting the thread \n",
    "t1.start()\n",
    "t2.start()\n",
    "# waitinng for the threads to finish\n",
    "t1.join()\n",
    "t2.join()\n",
    "print(\"program execution completed\")\n",
    "\n",
    "    "
   ]
  },
  {
   "cell_type": "code",
   "execution_count": null,
   "id": "7c024e90",
   "metadata": {},
   "outputs": [],
   "source": []
  },
  {
   "cell_type": "code",
   "execution_count": null,
   "id": "88e52de0",
   "metadata": {},
   "outputs": [],
   "source": []
  }
 ],
 "metadata": {
  "kernelspec": {
   "display_name": "Python 3 (ipykernel)",
   "language": "python",
   "name": "python3"
  },
  "language_info": {
   "codemirror_mode": {
    "name": "ipython",
    "version": 3
   },
   "file_extension": ".py",
   "mimetype": "text/x-python",
   "name": "python",
   "nbconvert_exporter": "python",
   "pygments_lexer": "ipython3",
   "version": "3.10.9"
  }
 },
 "nbformat": 4,
 "nbformat_minor": 5
}
